{
 "cells": [
  {
   "cell_type": "markdown",
   "metadata": {},
   "source": [
    "# Пример работы GCN  на задаче Karate Club"
   ]
  },
  {
   "cell_type": "markdown",
   "metadata": {},
   "source": [
    "<img src=\"karate.png\">"
   ]
  },
  {
   "cell_type": "code",
   "execution_count": 608,
   "metadata": {},
   "outputs": [],
   "source": [
    "from collections import namedtuple\n",
    "from networkx import read_edgelist, set_node_attributes\n",
    "from pandas import read_csv, Series\n",
    "from numpy import array\n",
    "from matplotlib import pyplot as plt\n",
    "%matplotlib inline\n",
    "import matplotlib.pylab as pylab\n",
    "from sklearn.metrics import accuracy_score\n",
    "from statistics import mean\n",
    "\n",
    "\n",
    "params = {'legend.fontsize': 'x-large',\n",
    "          'figure.figsize': (20, 15),\n",
    "         'axes.labelsize': '30',\n",
    "         'axes.titlesize':'35',\n",
    "         'xtick.labelsize':'30',\n",
    "         'ytick.labelsize':'30'}\n",
    "pylab.rcParams.update(params)\n",
    "\n",
    "DataSet = namedtuple(\n",
    "    'DataSet',\n",
    "    field_names=['X_train', 'y_train', 'X_test', 'y_test', 'network']\n",
    ")\n",
    "\n",
    "def load_karate_club():\n",
    "    network = read_edgelist(\n",
    "        'karate.edgelist',\n",
    "        nodetype=int)\n",
    "\n",
    "    attributes = read_csv(\n",
    "        'karate.attributes.csv',\n",
    "        index_col=['node'])\n",
    "\n",
    "    for attribute in attributes.columns.values:\n",
    "        set_node_attributes(\n",
    "            network,\n",
    "            values=Series(\n",
    "                attributes[attribute],\n",
    "                index=attributes.index).to_dict(),\n",
    "            name=attribute\n",
    "        )\n",
    "\n",
    "    X_train, y_train = map(array, zip(*[\n",
    "        ([node], data['role'] == 'Administrator')\n",
    "        for node, data in network.nodes(data=True)\n",
    "        if data['role'] in {'Administrator', 'Instructor'}\n",
    "    ]))\n",
    "    X_test, y_test = map(array, zip(*[\n",
    "        ([node], data['community'] == 'Administrator')\n",
    "        for node, data in network.nodes(data=True)\n",
    "        if data['role'] == 'Member'\n",
    "    ]))\n",
    "    \n",
    "    return DataSet(\n",
    "        X_train, y_train,\n",
    "        X_test, y_test,\n",
    "        network)"
   ]
  },
  {
   "cell_type": "code",
   "execution_count": 609,
   "metadata": {},
   "outputs": [],
   "source": [
    "from networkx import connected_components, to_numpy_matrix, degree_centrality,degree,  betweenness_centrality, shortest_path_length\n",
    "import mxnet.ndarray as nd\n",
    "\n",
    "zkc = load_karate_club()\n",
    "\n",
    "A = to_numpy_matrix(zkc.network)\n",
    "A = nd.array(A)\n",
    "\n",
    "X_train = zkc.X_train.flatten()\n",
    "y_train = zkc.y_train\n",
    "X_test = zkc.X_test.flatten()\n",
    "y_test = zkc.y_test"
   ]
  },
  {
   "cell_type": "markdown",
   "metadata": {},
   "source": [
    "# Определение слоев"
   ]
  },
  {
   "cell_type": "code",
   "execution_count": 610,
   "metadata": {},
   "outputs": [],
   "source": [
    "from mxnet.gluon import HybridBlock\n",
    "from mxnet.gluon.nn import Activation\n",
    "import mxnet.ndarray as nd\n",
    "\n",
    "class SpectralRule(HybridBlock):\n",
    "    def __init__(self, A, in_units, out_units, activation='relu', **kwargs):\n",
    "        super().__init__(**kwargs)\n",
    "        I = nd.eye(*A.shape)\n",
    "        A_hat = A.copy() + I\n",
    "\n",
    "        D = nd.sum(A_hat, axis=0)\n",
    "        D_inv = D**-0.5\n",
    "        D_inv = nd.diag(D_inv)\n",
    "\n",
    "        A_hat = D_inv * A_hat * D_inv\n",
    "        \n",
    "        self.in_units, self.out_units = in_units, out_units\n",
    "        \n",
    "        with self.name_scope():\n",
    "            self.A_hat = self.params.get_constant('A_hat', A_hat)\n",
    "            self.W = self.params.get(\n",
    "                'W', shape=(self.in_units, self.out_units)\n",
    "            )\n",
    "            if activation == 'identity':\n",
    "                self.activation = lambda X: X\n",
    "            else:\n",
    "                self.activation = Activation(activation)\n",
    "\n",
    "    def hybrid_forward(self, F, X, A_hat, W):\n",
    "        aggregate = F.dot(A_hat, X)\n",
    "        propagate = self.activation(\n",
    "            F.dot(aggregate, W))\n",
    "        return propagate"
   ]
  },
  {
   "cell_type": "code",
   "execution_count": 611,
   "metadata": {},
   "outputs": [],
   "source": [
    "class LogisticRegressor(HybridBlock):\n",
    "    def __init__(self, in_units, **kwargs):\n",
    "        super().__init__(**kwargs)\n",
    "        with self.name_scope():\n",
    "            self.w = self.params.get(\n",
    "                'w', shape=(1, in_units)\n",
    "            )\n",
    "\n",
    "            self.b = self.params.get(\n",
    "                'b', shape=(1, 1)\n",
    "            )\n",
    "\n",
    "    def hybrid_forward(self, F, X, w, b):\n",
    "        # Change shape of b to comply with MXnet addition API\n",
    "        b = F.broadcast_axis(b, axis=(0,1), size=(34, 1))\n",
    "        y = F.dot(X, w, transpose_b=True) + b\n",
    "\n",
    "        return F.sigmoid(y)"
   ]
  },
  {
   "cell_type": "markdown",
   "metadata": {},
   "source": [
    "# Модели"
   ]
  },
  {
   "cell_type": "code",
   "execution_count": 612,
   "metadata": {
    "scrolled": true
   },
   "outputs": [],
   "source": [
    "from mxnet.gluon.nn import HybridSequential, Activation\n",
    "from mxnet.ndarray import array\n",
    "from mxnet.initializer import One, Uniform, Xavier\n",
    "from mxnet.gluon.loss import SigmoidBinaryCrossEntropyLoss\n",
    "\n",
    "def build_features(A, X):\n",
    "    hidden_layer_specs = [(2, 'tanh')] # Format: (units in layer, activation function)\n",
    "    in_units = in_units=X.shape[1]\n",
    "  \n",
    "    features = HybridSequential()\n",
    "    with features.name_scope():\n",
    "        for i, (layer_size, activation_func) in enumerate(hidden_layer_specs):\n",
    "            layer = SpectralRule(\n",
    "                A, in_units=in_units, out_units=layer_size, \n",
    "                activation=activation_func)\n",
    "            features.add(layer)\n",
    "\n",
    "            in_units = layer_size\n",
    "    return features, in_units\n",
    "\n",
    "def build_model(A, X):\n",
    "    model = HybridSequential()\n",
    "    hidden_layer_specs = [(2, 'tanh')]\n",
    "    in_units = in_units=X.shape[1]\n",
    "\n",
    "    with model.name_scope():\n",
    "        features, out_units = build_features(A, X)\n",
    "        model.add(features)\n",
    "\n",
    "        classifier = LogisticRegressor(out_units)\n",
    "        model.add(classifier)\n",
    "\n",
    "    model.hybridize()\n",
    "    model.initialize(Uniform(1))\n",
    "\n",
    "    return model, features"
   ]
  },
  {
   "cell_type": "markdown",
   "metadata": {},
   "source": [
    "## Модель 1 : one-hot закодированные вершины"
   ]
  },
  {
   "cell_type": "code",
   "execution_count": 613,
   "metadata": {},
   "outputs": [
    {
     "name": "stdout",
     "output_type": "stream",
     "text": [
      "Done\n"
     ]
    }
   ],
   "source": [
    "X_1 = I = nd.eye(*A.shape)\n",
    "print(\"Done\")"
   ]
  },
  {
   "cell_type": "markdown",
   "metadata": {},
   "source": [
    "## Модель 2 : дистанция до администратора и интсруктора в качестве дополнительных признаков"
   ]
  },
  {
   "cell_type": "code",
   "execution_count": 614,
   "metadata": {},
   "outputs": [],
   "source": [
    "X_2 = nd.zeros((A.shape[0], 2))\n",
    "node_distance_instructor = shortest_path_length(zkc.network, target=33)\n",
    "node_distance_administrator = shortest_path_length(zkc.network, target=0)\n",
    "\n",
    "for node in zkc.network.nodes():\n",
    "    X_2[node][0] = node_distance_administrator[node]\n",
    "    X_2[node][1] = node_distance_instructor[node]"
   ]
  },
  {
   "cell_type": "code",
   "execution_count": 615,
   "metadata": {},
   "outputs": [
    {
     "name": "stdout",
     "output_type": "stream",
     "text": [
      "Done\n"
     ]
    }
   ],
   "source": [
    "X_2 = nd.concat(X_1, X_2)\n",
    "print(\"Done\")"
   ]
  },
  {
   "cell_type": "markdown",
   "metadata": {},
   "source": [
    "## Модель 3 : расстояния до Администратора и Инструктора + степень вершины + произведение путей, деленное на степень\n"
   ]
  },
  {
   "cell_type": "code",
   "execution_count": 616,
   "metadata": {},
   "outputs": [
    {
     "name": "stdout",
     "output_type": "stream",
     "text": [
      "Done\n"
     ]
    }
   ],
   "source": [
    "X_3 = nd.zeros((A.shape[0], 4))\n",
    "node_distance_instructor = shortest_path_length(zkc.network, target=33)\n",
    "node_distance_administrator = shortest_path_length(zkc.network, target=0)\n",
    "node_degree = degree(zkc.network)\n",
    "for node in zkc.network.nodes():\n",
    "    X_3[node][0] = node_distance_administrator[node]\n",
    "    X_3[node][1] = node_distance_instructor[node]\n",
    "    X_3[node][2] = node_degree[node]\n",
    "    X_3[node][3] = node_distance_instructor[node]*node_distance_administrator[node]/node_degree[node]\n",
    "print(\"Done\")"
   ]
  },
  {
   "cell_type": "markdown",
   "metadata": {},
   "source": [
    "## Модель 4 : Модель 2 + разность расстояний до администратора и интсруктора"
   ]
  },
  {
   "cell_type": "code",
   "execution_count": 617,
   "metadata": {},
   "outputs": [
    {
     "name": "stdout",
     "output_type": "stream",
     "text": [
      "Done\n"
     ]
    }
   ],
   "source": [
    "X_4 = nd.zeros((A.shape[0], 4))\n",
    "node_distance_instructor = shortest_path_length(zkc.network, target=33)\n",
    "node_distance_administrator = shortest_path_length(zkc.network, target=0)\n",
    "node_degree = degree(zkc.network)\n",
    "for node in zkc.network.nodes():\n",
    "    X_4[node][0] = node_distance_administrator[node]\n",
    "    X_4[node][1] = node_distance_instructor[node]\n",
    "    X_4[node][2] = X_4[node][1] - X_4[node][0]\n",
    "print(\"Done\")"
   ]
  },
  {
   "cell_type": "markdown",
   "metadata": {},
   "source": [
    "# Тренируем и тестируем модели"
   ]
  },
  {
   "cell_type": "code",
   "execution_count": 618,
   "metadata": {
    "scrolled": true
   },
   "outputs": [
    {
     "name": "stdout",
     "output_type": "stream",
     "text": [
      "CPU times: user 4 µs, sys: 1 µs, total: 5 µs\n",
      "Wall time: 8.11 µs\n"
     ]
    }
   ],
   "source": [
    "%time\n",
    "from mxnet import autograd\n",
    "from mxnet.gluon import Trainer\n",
    "from mxnet.ndarray import sum as ndsum\n",
    "import numpy as np\n",
    "\n",
    "def train(model, features, X, X_train, y_train, epochs):\n",
    "    cross_entropy = SigmoidBinaryCrossEntropyLoss(from_sigmoid=True)\n",
    "    trainer = Trainer(model.collect_params(), 'sgd', {'learning_rate': 0.001, 'momentum': 1})\n",
    "\n",
    "    feature_representations = [features(X).asnumpy()]\n",
    "\n",
    "    for e in range(1, epochs + 1):\n",
    "        cum_loss = 0\n",
    "        cum_preds = []\n",
    "\n",
    "        for i, x in enumerate(X_train):\n",
    "            y = array(y_train)[i]\n",
    "            with autograd.record():\n",
    "                preds = model(X)[x]\n",
    "                loss = cross_entropy(preds, y)\n",
    "            loss.backward()\n",
    "            trainer.step(1)\n",
    "\n",
    "            cum_loss += loss.asscalar()\n",
    "            cum_preds += [preds.asscalar()]\n",
    "\n",
    "        feature_representations.append(features(X).asnumpy())\n",
    "            \n",
    "        #if (e % (epochs//10)) == 0:\n",
    "        #    print(f\"Epoch {e}/{epochs} -- Loss: {cum_loss: .4f}\")\n",
    "        #    print(cum_preds)\n",
    "    return feature_representations\n",
    "\n",
    "def predict(model, X, nodes):\n",
    "    preds = model(X)[nodes].asnumpy().flatten()\n",
    "    return np.where(preds >= 0.5, 1, 0)\n",
    "\n",
    "accuracy = []\n",
    "accuracy_max = []"
   ]
  },
  {
   "cell_type": "markdown",
   "metadata": {},
   "source": [
    "## Оценки первой модели"
   ]
  },
  {
   "cell_type": "code",
   "execution_count": 619,
   "metadata": {
    "scrolled": true
   },
   "outputs": [],
   "source": [
    "from sklearn.metrics import classification_report\n",
    "acc = []\n",
    "for i in range(10):\n",
    "    model_1, features_1 = build_model(A, X_1)\n",
    "    model_1(X_1)\n",
    "    feature_representations_1 = train(model_1, features_1, X_1, X_train, y_train, epochs=250)\n",
    "    y_pred_1 = predict(model_1, X_1, X_test)\n",
    "    acc.append(accuracy_score(y_test, y_pred_1))\n",
    "accuracy.append(mean(acc))\n",
    "accuracy_max.append(max(acc))"
   ]
  },
  {
   "cell_type": "markdown",
   "metadata": {},
   "source": [
    "## Оценки второй модели"
   ]
  },
  {
   "cell_type": "code",
   "execution_count": 620,
   "metadata": {
    "scrolled": true
   },
   "outputs": [],
   "source": [
    "acc = []\n",
    "for i in range(10):\n",
    "    model_2, features_2 = build_model(A, X_2)\n",
    "    model_2(X_2)\n",
    "    feature_representations_2= train(model_2, features_2, X_2, X_train, y_train, epochs=250)\n",
    "    y_pred_2 = predict(model_2, X_2, X_test)\n",
    "    acc.append(accuracy_score(y_test, y_pred_2))\n",
    "accuracy.append(mean(acc))\n",
    "accuracy_max.append(max(acc))"
   ]
  },
  {
   "cell_type": "markdown",
   "metadata": {},
   "source": [
    "## Оценки третьей модели"
   ]
  },
  {
   "cell_type": "code",
   "execution_count": 621,
   "metadata": {
    "scrolled": true
   },
   "outputs": [],
   "source": [
    "acc = []\n",
    "for i in range(10):\n",
    "    model_3, features_3 = build_model(A, X_3)\n",
    "    model_3(X_3)\n",
    "    feature_representations_3= train(model_3, features_3, X_3, X_train, y_train, epochs=350)\n",
    "    y_pred_3 = predict(model_3, X_3, X_test)\n",
    "    acc.append(accuracy_score(y_test, y_pred_3))\n",
    "accuracy.append(mean(acc))\n",
    "accuracy_max.append(max(acc))"
   ]
  },
  {
   "cell_type": "markdown",
   "metadata": {},
   "source": [
    "## Оценки 4 модели"
   ]
  },
  {
   "cell_type": "code",
   "execution_count": 622,
   "metadata": {
    "scrolled": true
   },
   "outputs": [],
   "source": [
    "acc = []\n",
    "for i in range(10):\n",
    "    model_4, features_4 = build_model(A, X_4)\n",
    "    model_4(X_4)\n",
    "    feature_representations_4= train(model_4, features_4, X_4, X_train, y_train, epochs=350)\n",
    "    y_pred_4 = predict(model_4, X_4, X_test)\n",
    "    acc.append(accuracy_score(y_test, y_pred_4))\n",
    "accuracy.append(mean(acc))\n",
    "accuracy_max.append(max(acc))"
   ]
  },
  {
   "cell_type": "code",
   "execution_count": 623,
   "metadata": {},
   "outputs": [
    {
     "name": "stdout",
     "output_type": "stream",
     "text": [
      "Average accuracy [0.46875, 0.925, 0.8875, 0.921875]\n",
      "Max accuracy [0.5, 0.96875, 0.96875, 0.96875]\n"
     ]
    }
   ],
   "source": [
    "print(\"Average accuracy {}\".format(accuracy))\n",
    "print(\"Max accuracy {}\".format(accuracy_max))"
   ]
  },
  {
   "cell_type": "markdown",
   "metadata": {},
   "source": [
    "# Результаты (архитектура моделей : $accuracy_{avg}$ - $accuracy_{max}$)\n",
    "(6, 'tanh'),(4, 'tanh'), (2, 'tanh') : [0.515625, 0.775, 0.659375, 0.559375]-\n",
    "                                       [0.59375, 0.90625, 0.84375, 0.59375]\n",
    "                    \n",
    "(4, 'tanh'),(4, 'tanh'), (2, 'tanh') : [0.51875, 0.71875, 0.65, 0.559375]-\n",
    "[0.625, 0.90625, 0.875, 0.625]\n",
    "\n",
    "(4, 'tanh'),(4, 'tanh'), (2, 'tanh'), (2, 'tanh') : [0.503125, 0.678125, 0.703125, 0.6375]-\n",
    "[0.53125, 0.84375, 0.875, 0.8125]\n",
    "\n",
    "tanh2 [0.503125, 0.921875, 0.821875, 0.9125]-\n",
    "[0.5625, 0.96875, 0.96875, 0.9375]\n",
    "\n",
    "relu2 [0.49375, 0.640625, 0.6, 0.9]-\n",
    "[0.59375, 0.84375, 0.84375, 0.9375]\n",
    "\n",
    "tanh2+relu2 [0.528125, 0.640625, 0.63125, 0.73125]-\n",
    "[0.625, 0.9375, 0.90625, 0.90625]\n",
    "\n",
    "tanh2+tanh2 [0.528125, 0.715625, 0.753125, 0.89375]-\n",
    "[0.59375, 0.90625, 0.9375, 0.90625]"
   ]
  },
  {
   "cell_type": "markdown",
   "metadata": {},
   "source": [
    "# Таким образом, по результатам эксперимента выбираем 3 модель с архитектурой tanh2 "
   ]
  },
  {
   "cell_type": "code",
   "execution_count": 660,
   "metadata": {},
   "outputs": [],
   "source": [
    "\n",
    "def train(model, features, X, X_train, y_train, epochs):\n",
    "    cross_entropy = SigmoidBinaryCrossEntropyLoss(from_sigmoid=True)\n",
    "    trainer = Trainer(model.collect_params(), 'sgd', {'learning_rate': 0.001, 'momentum': 1})\n",
    "\n",
    "    feature_representations = [features(X).asnumpy()]\n",
    "\n",
    "    for e in range(1, epochs + 1):\n",
    "        cum_loss = 0\n",
    "        cum_preds = []\n",
    "\n",
    "        for i, x in enumerate(X_train):\n",
    "            y = array(y_train)[i]\n",
    "            with autograd.record():\n",
    "                preds = model(X)[x]\n",
    "                loss = cross_entropy(preds, y)\n",
    "            loss.backward()\n",
    "            trainer.step(1)\n",
    "\n",
    "            cum_loss += loss.asscalar()\n",
    "            cum_preds += [preds.asscalar()]\n",
    "\n",
    "        feature_representations.append(features(X).asnumpy())\n",
    "            \n",
    "        #if (e % (epochs//10)) == 0:\n",
    "        #    print(f\"Epoch {e}/{epochs} -- Loss: {cum_loss: .4f}\")\n",
    "        #    print(cum_preds)\n",
    "    return feature_representations\n",
    "\n",
    "\n",
    "\n",
    "model_4, features_4 = build_model(A, X_4)\n",
    "model_4(X_4)\n",
    "feature_representations_4= train(model_4, features_4, X_4, X_train, y_train, epochs=350)\n",
    "y_pred_4 = predict(model_4, X_4, X_test)"
   ]
  },
  {
   "cell_type": "code",
   "execution_count": 661,
   "metadata": {},
   "outputs": [],
   "source": [
    "filenames = []\n",
    "def plot_repr(feature_representations):\n",
    "    pos_x = []\n",
    "    pos_y = []\n",
    "    neg_x = []\n",
    "    neg_y = []\n",
    "\n",
    "\n",
    "    for i in range(len(y_test)):\n",
    "        if y_test[i]:\n",
    "            pos_x.append(feature_representations[i][0])\n",
    "            pos_y.append(feature_representations[i][1])\n",
    "            continue\n",
    "        neg_x.append(feature_representations[i][0])\n",
    "        neg_y.append(feature_representations[i][1])\n",
    "        \n",
    "    plt.scatter(feature_representations[0][0], feature_representations[0][1], s = 1000)\n",
    "    plt.scatter(feature_representations[-1][0], feature_representations[-1][1],  s = 1000)\n",
    "    plt.scatter(neg_x, neg_y, marker='+', s = 1000)\n",
    "    plt.scatter(pos_x, pos_y, marker='+', s = 1000)\n",
    "    plt.xlim(-1, 1)\n",
    "    plt.ylim(-1, 1)\n",
    "    plt.title(\"Epoch 350\")\n",
    "    plt.grid()\n",
    "    plt.show()\n",
    "    \n",
    "def save_plot_repr(feature_representations, e):\n",
    "    pos_x = []\n",
    "    pos_y = []\n",
    "    neg_x = []\n",
    "    neg_y = []\n",
    "\n",
    "\n",
    "    for i in range(len(y_test)):\n",
    "        if y_test[i]:\n",
    "            pos_x.append(feature_representations[i][0])\n",
    "            pos_y.append(feature_representations[i][1])\n",
    "            continue\n",
    "        neg_x.append(feature_representations[i][0])\n",
    "        neg_y.append(feature_representations[i][1])\n",
    "    plt.scatter(feature_representations[0][0], feature_representations[0][1], s = 1000)\n",
    "    plt.scatter(feature_representations[-1][0], feature_representations[-1][1],  s = 1000)\n",
    "    plt.scatter(neg_x, neg_y, marker='+', s = 1000)\n",
    "    plt.scatter(pos_x, pos_y, marker='+', s = 1000)\n",
    "    plt.grid()\n",
    "    plt.xlim(-1, 1)\n",
    "    plt.ylim(-1, 1)\n",
    "    plt.title(\"Epoch {}\".format(e))\n",
    "    string = 'scatter' + str(e) + '.png'\n",
    "    plt.savefig(string)\n",
    "    filenames.append(string)\n",
    "    plt.clf()"
   ]
  },
  {
   "cell_type": "code",
   "execution_count": 662,
   "metadata": {},
   "outputs": [
    {
     "data": {
      "image/png": "[encoded data removed]",
      "text/plain": [
       "<Figure size 1440x1080 with 1 Axes>"
      ]
     },
     "metadata": {},
     "output_type": "display_data"
    }
   ],
   "source": [
    "feature_representations = feature_representations_4[-1]\n",
    "plot_repr(feature_representations)"
   ]
  },
  {
   "cell_type": "markdown",
   "metadata": {},
   "source": [
    "### Посмотрим на метки в процессе обучения"
   ]
  },
  {
   "cell_type": "code",
   "execution_count": 663,
   "metadata": {},
   "outputs": [],
   "source": [
    "def train(model, features, X, X_train, y_train, epochs):\n",
    "    cross_entropy = SigmoidBinaryCrossEntropyLoss(from_sigmoid=True)\n",
    "    trainer = Trainer(model.collect_params(), 'sgd', {'learning_rate': 0.001, 'momentum': 1})\n",
    "\n",
    "    feature_representations = [features(X).asnumpy()]\n",
    "\n",
    "    for e in range(1, epochs + 1):\n",
    "        cum_loss = 0\n",
    "        cum_preds = []\n",
    "\n",
    "        for i, x in enumerate(X_train):\n",
    "            y = array(y_train)[i]\n",
    "            with autograd.record():\n",
    "                preds = model(X)[x]\n",
    "                loss = cross_entropy(preds, y)\n",
    "            loss.backward()\n",
    "            trainer.step(1)\n",
    "\n",
    "            cum_loss += loss.asscalar()\n",
    "            cum_preds += [preds.asscalar()]\n",
    "\n",
    "        feature_representations.append(features(X).asnumpy())\n",
    "            \n",
    "        if (e % 3) == 0:\n",
    "            save_plot_repr(feature_representations[-1], e)\n",
    "    return feature_representations\n",
    "\n"
   ]
  },
  {
   "cell_type": "code",
   "execution_count": 664,
   "metadata": {},
   "outputs": [
    {
     "name": "stdout",
     "output_type": "stream",
     "text": [
      "Accuracy : 0.90625\n"
     ]
    },
    {
     "data": {
      "text/plain": [
       "<Figure size 1440x1080 with 0 Axes>"
      ]
     },
     "metadata": {},
     "output_type": "display_data"
    }
   ],
   "source": [
    "model_4, features_4 = build_model(A, X_4)\n",
    "model_4(X_4)\n",
    "feature_representations_4= train(model_4, features_4, X_4, X_train, y_train, epochs=350)\n",
    "y_pred_4 = predict(model_4, X_4, X_test)\n",
    "print(\"Accuracy : {}\".format(accuracy_score(y_test, y_pred_4)))"
   ]
  },
  {
   "cell_type": "code",
   "execution_count": 665,
   "metadata": {},
   "outputs": [],
   "source": [
    "import imageio\n",
    "images = []\n",
    "for filename in filenames:\n",
    "    images.append(imageio.imread(filename))\n",
    "imageio.mimsave('movie.gif', images)"
   ]
  },
  {
   "cell_type": "code",
   "execution_count": null,
   "metadata": {},
   "outputs": [],
   "source": []
  },
  {
   "cell_type": "code",
   "execution_count": null,
   "metadata": {},
   "outputs": [],
   "source": []
  },
  {
   "cell_type": "code",
   "execution_count": null,
   "metadata": {},
   "outputs": [],
   "source": []
  },
  {
   "cell_type": "code",
   "execution_count": null,
   "metadata": {},
   "outputs": [],
   "source": []
  },
  {
   "cell_type": "code",
   "execution_count": null,
   "metadata": {},
   "outputs": [],
   "source": []
  }
 ],
 "metadata": {
  "kernelspec": {
   "display_name": "Python 3",
   "language": "python",
   "name": "python3"
  },
  "language_info": {
   "codemirror_mode": {
    "name": "ipython",
    "version": 3
   },
   "file_extension": ".py",
   "mimetype": "text/x-python",
   "name": "python",
   "nbconvert_exporter": "python",
   "pygments_lexer": "ipython3",
   "version": "3.6.1"
  }
 },
 "nbformat": 4,
 "nbformat_minor": 2
}
